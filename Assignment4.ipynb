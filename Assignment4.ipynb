{
 "cells": [
  {
   "cell_type": "markdown",
   "metadata": {},
   "source": [
    "1.1 Write a Python Program(with class concepts) to find the area of the triangle using the below\n",
    "formula.\n",
    "area = (s*(s-a)*(s-b)*(s-c)) ** 0.5\n",
    "Function to take the length of the sides of triangle from user should be defined in the parent\n",
    "class and function to calculate the area should be defined in subclass."
   ]
  },
  {
   "cell_type": "code",
   "execution_count": 1,
   "metadata": {},
   "outputs": [
    {
     "name": "stdout",
     "output_type": "stream",
     "text": [
      "Enter three value: 2,3,4\n",
      "area of the triangle is :  20.493901531919196\n"
     ]
    }
   ],
   "source": [
    "class par:\n",
    "#    def __init__():\n",
    "#        pass\n",
    "    def getsides(self):\n",
    "        try:\n",
    "            x, y, z = [int(x) for x in input(\"Enter three value: \").split(\",\")] \n",
    "        except:\n",
    "            print(\"please enter 3 integers as sides separated by comma\")\n",
    "        else:\n",
    "            return x,y,z    \n",
    "        \n",
    "class subpar(par):\n",
    "#        def __init__(self):\n",
    "#            pass\n",
    "        def calarea(par):\n",
    "            a,b,c=par.getsides()\n",
    "            s=a+b+c/2\n",
    "            return ((s*(s-a)*(s-b)*(s-c)) ** 0.5)\n",
    "    \n",
    "try:\n",
    "    t=subpar()\n",
    "    area = t.calarea()\n",
    "except:\n",
    "    print(\"pls check params\")\n",
    "else:\n",
    "    print(\"area of the triangle is : \",area)"
   ]
  },
  {
   "cell_type": "markdown",
   "metadata": {},
   "source": [
    "1.2 Write a function filter_long_words() that takes a list of words and an integer n and returns\n",
    "the list of words that are longer than n."
   ]
  },
  {
   "cell_type": "code",
   "execution_count": 2,
   "metadata": {},
   "outputs": [
    {
     "name": "stdout",
     "output_type": "stream",
     "text": [
      "['ineuron', 'pyspark']\n"
     ]
    }
   ],
   "source": [
    "def filter_long_words(lst,n):\n",
    "    res_lst=[]\n",
    "    for name in lst:\n",
    "        if len(name) > n:\n",
    "            res_lst.append(name)\n",
    "        else:\n",
    "            pass\n",
    "        \n",
    "    return res_lst    \n",
    "        \n",
    "\n",
    "ls=['sr','dsf','df','dfsd','ineuron','pyspark']\n",
    "print(filter_long_words(ls,5))"
   ]
  },
  {
   "cell_type": "markdown",
   "metadata": {},
   "source": [
    "2.1 Write a Python program using function concept that maps list of words into a list of integers\n",
    "representing the lengths of the corresponding words.\n",
    "Hint: If a list [ ab,cde,erty] is passed on to the python function output should come as [2,3,4]\n",
    "Here 2,3 and 4 are the lengths of the words in the list."
   ]
  },
  {
   "cell_type": "code",
   "execution_count": 3,
   "metadata": {},
   "outputs": [
    {
     "name": "stdout",
     "output_type": "stream",
     "text": [
      "[2, 3, 4]\n"
     ]
    }
   ],
   "source": [
    "def words_len(lst):\n",
    "    res_lst=[]\n",
    "    for name in lst:\n",
    "            res_lst.append(len(name))\n",
    "    return res_lst    \n",
    "\n",
    "#ls1=['df','dfsd','ineuron','pyspark','hadoop']\n",
    "ls2=['ab','cde','erty']\n",
    "print(words_len(ls2))"
   ]
  },
  {
   "cell_type": "markdown",
   "metadata": {},
   "source": [
    "2.2 Write a Python function which takes a character (i.e. a string of length 1) and returns True if\n",
    "it is a vowel, False otherwise."
   ]
  },
  {
   "cell_type": "code",
   "execution_count": 6,
   "metadata": {},
   "outputs": [
    {
     "data": {
      "text/plain": [
       "True"
      ]
     },
     "execution_count": 6,
     "metadata": {},
     "output_type": "execute_result"
    }
   ],
   "source": [
    "def test_vowel(a):\n",
    "    if a in ['a','e','i','o','u','A','E','I','O','U']:\n",
    "        return True\n",
    "    else:\n",
    "        return False\n",
    "\n",
    "test_vowel('E') "
   ]
  },
  {
   "cell_type": "code",
   "execution_count": 7,
   "metadata": {},
   "outputs": [
    {
     "data": {
      "text/plain": [
       "False"
      ]
     },
     "execution_count": 7,
     "metadata": {},
     "output_type": "execute_result"
    }
   ],
   "source": [
    "test_vowel('b') "
   ]
  },
  {
   "cell_type": "code",
   "execution_count": null,
   "metadata": {},
   "outputs": [],
   "source": []
  }
 ],
 "metadata": {
  "kernelspec": {
   "display_name": "Python 3",
   "language": "python",
   "name": "python3"
  },
  "language_info": {
   "codemirror_mode": {
    "name": "ipython",
    "version": 3
   },
   "file_extension": ".py",
   "mimetype": "text/x-python",
   "name": "python",
   "nbconvert_exporter": "python",
   "pygments_lexer": "ipython3",
   "version": "3.7.4"
  }
 },
 "nbformat": 4,
 "nbformat_minor": 2
}
